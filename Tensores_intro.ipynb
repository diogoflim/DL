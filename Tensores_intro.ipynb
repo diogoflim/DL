{
 "cells": [
  {
   "cell_type": "markdown",
   "metadata": {},
   "source": [
    "-----------\n",
    "\n",
    "**Disciplina:** Introdução ao Aprendizado Profundo\n",
    "\n",
    "**PPGEP UFF - 2024.2**\n",
    "\n",
    "**Professor:** Diogo Ferreira de Lima Silva\n",
    "\n",
    "-----------\n"
   ]
  },
  {
   "cell_type": "markdown",
   "metadata": {},
   "source": [
    "# Tensors\n",
    "\n",
    "O conceito de tensor pode ser descrito como uma generalização de matrizes e vetores.\n",
    "\n",
    "A principal biblioteca de **deep learning** utiliza esse conceito, que traz eficiencia e rapidez ao treinamento dos modelos."
   ]
  },
  {
   "cell_type": "code",
   "execution_count": 2,
   "metadata": {},
   "outputs": [],
   "source": [
    "import torch\n",
    "import numpy as np"
   ]
  },
  {
   "cell_type": "markdown",
   "metadata": {},
   "source": [
    "### Escalares"
   ]
  },
  {
   "cell_type": "code",
   "execution_count": 3,
   "metadata": {},
   "outputs": [
    {
     "name": "stdout",
     "output_type": "stream",
     "text": [
      "10\n",
      "10.0\n",
      "tensor(10.)\n"
     ]
    }
   ],
   "source": [
    "a=10 # Atribuindo um escalar a uma variável em python\n",
    "b=np.array(10.) # Usando numpy\n",
    "c=torch.tensor(10.) # Usando torch\n",
    "\n",
    "print(a) # escalar em python\n",
    "print(b) # escalar no numpy\n",
    "print(c) # um escalar pode ser visto como um tensor de rank 0 no torch\n"
   ]
  },
  {
   "cell_type": "code",
   "execution_count": 4,
   "metadata": {},
   "outputs": [
    {
     "name": "stdout",
     "output_type": "stream",
     "text": [
      "torch.Size([])\n",
      "0\n"
     ]
    }
   ],
   "source": [
    "print(c.shape) # o shape vazio indica que é um escalar\n",
    "print(c.ndim) # ndim retorna diretamente o rank do tensor"
   ]
  },
  {
   "cell_type": "markdown",
   "metadata": {},
   "source": [
    "### Vetores"
   ]
  },
  {
   "cell_type": "code",
   "execution_count": 5,
   "metadata": {},
   "outputs": [
    {
     "name": "stdout",
     "output_type": "stream",
     "text": [
      "[10.0, 20.0, 30.0, 40.0, 50.0]\n",
      "[10. 20. 30. 40. 50.]\n",
      "tensor([10., 20., 30., 40., 50.])\n"
     ]
    }
   ],
   "source": [
    "a=[10., 20., 30., 40., 50.] # lista no python\n",
    "b= np.array([10., 20., 30., 40., 50.]) # vetor no numpy\n",
    "c=torch.tensor([10., 20., 30., 40., 50.]) # vetor no torch (tensor de rank 1)\n",
    "\n",
    "\n",
    "print(a) # escalar em python\n",
    "print(b) # escalar no numpy\n",
    "print(c) # um escalar pode ser visto como um tensor de rank 0 no torch"
   ]
  },
  {
   "cell_type": "code",
   "execution_count": 6,
   "metadata": {},
   "outputs": [
    {
     "name": "stdout",
     "output_type": "stream",
     "text": [
      "torch.Size([5])\n",
      "1\n"
     ]
    }
   ],
   "source": [
    "print(c.shape) # Agora, o shape retornará o número de elementos do vetor!\n",
    "print(c.ndim) # ndim retorna diretamente o rank do tensor"
   ]
  },
  {
   "cell_type": "markdown",
   "metadata": {},
   "source": [
    "### Matrizes "
   ]
  },
  {
   "cell_type": "code",
   "execution_count": 7,
   "metadata": {},
   "outputs": [
    {
     "name": "stdout",
     "output_type": "stream",
     "text": [
      "[[10.0, 20.0, 30.0, 40.0, 50.0], [0.0, 5.0, 10.0, 15.0, 20.0]]\n",
      "[[10. 20. 30. 40. 50.]\n",
      " [ 0.  5. 10. 15. 20.]]\n",
      "tensor([[10., 20., 30., 40., 50.],\n",
      "        [ 0.,  5., 10., 15., 20.]])\n"
     ]
    }
   ],
   "source": [
    "a=[[10., 20., 30., 40., 50.], [0., 5., 10., 15., 20.]] # lista de listas no python\n",
    "b= np.array([[10., 20., 30., 40., 50.], [0., 5., 10., 15., 20.]]) # matriz no numpy é um array de duas dimensões\n",
    "c=torch.tensor([[10., 20., 30., 40., 50.], [0., 5., 10., 15., 20.]]) # matriz no torch (tensor de rank 2)\n",
    "\n",
    "print(a) # escalar em python\n",
    "print(b) # escalar no numpy\n",
    "print(c) # um escalar pode ser visto como um tensor de rank 0 no torch"
   ]
  },
  {
   "cell_type": "code",
   "execution_count": 8,
   "metadata": {},
   "outputs": [
    {
     "name": "stdout",
     "output_type": "stream",
     "text": [
      "torch.Size([2, 5])\n",
      "2\n"
     ]
    }
   ],
   "source": [
    "print(c.shape) # Agora, o shape indica que temos duas linhas e 5 colunas!\n",
    "print(c.ndim) # ndim retorna diretamente o rank do tensor. Uma matriz é um tensor de rank 2"
   ]
  },
  {
   "cell_type": "markdown",
   "metadata": {},
   "source": [
    "### Um container de duas Matrizes "
   ]
  },
  {
   "cell_type": "code",
   "execution_count": 9,
   "metadata": {},
   "outputs": [
    {
     "name": "stdout",
     "output_type": "stream",
     "text": [
      "[[[10.0, 20.0, 30.0, 40.0, 50.0], [0.0, 5.0, 10.0, 15.0, 20.0]], [[100.0, 200.0, 300.0, 400.0, 500.0], [0.0, -5.0, -10.0, -15.0, -20.0]]]\n",
      "[[[ 10.  20.  30.  40.  50.]\n",
      "  [  0.   5.  10.  15.  20.]]\n",
      "\n",
      " [[100. 200. 300. 400. 500.]\n",
      "  [  0.  -5. -10. -15. -20.]]]\n",
      "tensor([[[ 10.,  20.,  30.,  40.,  50.],\n",
      "         [  0.,   5.,  10.,  15.,  20.]],\n",
      "\n",
      "        [[100., 200., 300., 400., 500.],\n",
      "         [  0.,  -5., -10., -15., -20.]]])\n"
     ]
    }
   ],
   "source": [
    "a=[[[10., 20., 30., 40., 50.], [0., 5., 10., 15., 20.]], [[100., 200., 300., 400., 500.], [0., -5., -10., -15., -20.]]] # lista de listas de listas no python\n",
    "b= np.array([[[10., 20., 30., 40., 50.], [0., 5., 10., 15., 20.]], [[100., 200., 300., 400., 500.], [0., -5., -10., -15., -20.]]]) # array de três dimensões\n",
    "c=torch.tensor([[[10., 20., 30., 40., 50.], [0., 5., 10., 15., 20.]], [[100., 200., 300., 400., 500.], [0., -5., -10., -15., -20.]]]) # tensor de de rank 3\n",
    "\n",
    "print(a) # escalar em python\n",
    "print(b) # escalar no numpy\n",
    "print(c) # um escalar pode ser visto como um tensor de rank 0 no torch"
   ]
  },
  {
   "cell_type": "code",
   "execution_count": 10,
   "metadata": {},
   "outputs": [
    {
     "name": "stdout",
     "output_type": "stream",
     "text": [
      "torch.Size([2, 2, 5])\n",
      "3\n"
     ]
    }
   ],
   "source": [
    "print(c.shape) # Temos 2 matrizes no formato 2X5\n",
    "print(c.ndim) # ndim retorna diretamente o rank do tensor. Uma matriz é um tensor de rank 2"
   ]
  },
  {
   "cell_type": "markdown",
   "metadata": {},
   "source": [
    "## Alguns Métodos "
   ]
  },
  {
   "cell_type": "code",
   "execution_count": 11,
   "metadata": {},
   "outputs": [
    {
     "name": "stdout",
     "output_type": "stream",
     "text": [
      "torch.float32\n",
      "---------------------------\n",
      "tensor([[[ 10.,  20.,  30.,  40.,  50.],\n",
      "         [  0.,   5.,  10.,  15.,  20.]],\n",
      "\n",
      "        [[100., 200., 300., 400., 500.],\n",
      "         [  0.,  -5., -10., -15., -20.]]], dtype=torch.float64)\n",
      "torch.float64\n",
      "---------------------------\n",
      "tensor([[[ 10.,  20.,  30.,  40.,  50.],\n",
      "         [  0.,   5.,  10.,  15.,  20.]],\n",
      "\n",
      "        [[100., 200., 300., 400., 500.],\n",
      "         [  0.,  -5., -10., -15., -20.]]])\n",
      "torch.float32\n",
      "---------------------------\n"
     ]
    }
   ],
   "source": [
    "print(c.dtype) # tipo de dado do tensor\n",
    "\n",
    "print(\"---------------------------\")\n",
    "# criando um tensor a partir de um array\n",
    "b_tensor = torch.from_numpy(b) \n",
    "print(b_tensor)\n",
    "print(b_tensor.dtype)\n",
    "print(\"---------------------------\")\n",
    "\n",
    "\n",
    "# Mudando o tipo de dado de um tensor\n",
    "b_tensor = b_tensor.to(torch.float32)\n",
    "print(b_tensor)\n",
    "print(b_tensor.dtype)\n",
    "print(\"---------------------------\")\n"
   ]
  },
  {
   "cell_type": "markdown",
   "metadata": {},
   "source": [
    "Observação: é considerada boa prática trabalhar com float32 em deep learning por ganhos de eficiência e armazenamento."
   ]
  },
  {
   "cell_type": "code",
   "execution_count": 12,
   "metadata": {},
   "outputs": [
    {
     "name": "stdout",
     "output_type": "stream",
     "text": [
      "tensor([[ 1,  2,  3,  4,  5],\n",
      "        [ 6,  7,  8,  9, 10]])\n",
      "---------------------------\n",
      "tensor([[ 1,  6],\n",
      "        [ 2,  7],\n",
      "        [ 3,  8],\n",
      "        [ 4,  9],\n",
      "        [ 5, 10]])\n",
      "---------------------------\n",
      "tensor([[1, 1],\n",
      "        [2, 2],\n",
      "        [3, 3],\n",
      "        [4, 4],\n",
      "        [5, 5]])\n",
      "---------------------------\n",
      "tensor([[ 55,  55],\n",
      "        [130, 130]])\n",
      "---------------------------\n",
      "tensor([2, 2, 2, 2, 2])\n",
      "---------------------------\n",
      "tensor([2, 2])\n",
      "---------------------------\n",
      "tensor([30, 80])\n",
      "tensor([14, 18, 22, 26, 30])\n"
     ]
    }
   ],
   "source": [
    "M1 = torch.tensor([[1,2,3,4,5], [6,7,8,9,10]])\n",
    "print(M1)\n",
    "print(\"---------------------------\")\n",
    "\n",
    "# Transposta\n",
    "print(M1.T)\n",
    "print(\"---------------------------\")\n",
    "\n",
    "M2 = torch.tensor([[1,1],[2,2],[3,3],[4,4],[5,5]])\n",
    "print(M2)\n",
    "print(\"---------------------------\")\n",
    "\n",
    "\n",
    "# Multiplicação de matrizes\n",
    "M3 = M1.matmul(M2)\n",
    "print(M3)\n",
    "print(\"---------------------------\")\n",
    "\n",
    "\n",
    "M4 = torch.tensor([2,2,2,2,2])\n",
    "print(M4)\n",
    "print(\"---------------------------\")\n",
    "M5 = torch.tensor([2,2])\n",
    "print(M5)\n",
    "print(\"---------------------------\")\n",
    "\n",
    "# broadcasting\n",
    "print(M1.matmul(M4))\n",
    "print(M1.T.matmul(M5))"
   ]
  },
  {
   "cell_type": "code",
   "execution_count": 13,
   "metadata": {},
   "outputs": [
    {
     "name": "stdout",
     "output_type": "stream",
     "text": [
      "tensor([[0., 0.],\n",
      "        [0., 0.],\n",
      "        [0., 0.],\n",
      "        [0., 0.],\n",
      "        [0., 0.],\n",
      "        [0., 0.],\n",
      "        [0., 0.],\n",
      "        [0., 0.],\n",
      "        [0., 0.],\n",
      "        [0., 0.]])\n",
      "---------------------------\n",
      "tensor([[1., 1.],\n",
      "        [1., 1.],\n",
      "        [1., 1.],\n",
      "        [1., 1.],\n",
      "        [1., 1.],\n",
      "        [1., 1.],\n",
      "        [1., 1.],\n",
      "        [1., 1.],\n",
      "        [1., 1.],\n",
      "        [1., 1.]])\n",
      "---------------------------\n"
     ]
    }
   ],
   "source": [
    "print(torch.zeros(10,2))\n",
    "print(\"---------------------------\")\n",
    "\n",
    "print(torch.ones(10,2))\n",
    "print(\"---------------------------\")"
   ]
  },
  {
   "cell_type": "markdown",
   "metadata": {},
   "source": [
    "Empilhando tensores"
   ]
  },
  {
   "cell_type": "code",
   "execution_count": 14,
   "metadata": {},
   "outputs": [
    {
     "name": "stdout",
     "output_type": "stream",
     "text": [
      "tensor([[2., 2.],\n",
      "        [1., 1.]])\n",
      "---------------------------\n",
      "tensor([[2., 2.],\n",
      "        [1., 1.],\n",
      "        [3., 3.]])\n"
     ]
    }
   ],
   "source": [
    "a = torch.tensor([2,2])\n",
    "b = torch.ones(2)\n",
    "\n",
    "\n",
    "c = torch.stack((a,b))\n",
    "print(torch.stack((a,b)))\n",
    "print(\"---------------------------\")\n",
    "\n",
    "d = torch.stack((a,b, torch.tensor([3,3])))\n",
    "print(d)"
   ]
  },
  {
   "cell_type": "code",
   "execution_count": 15,
   "metadata": {},
   "outputs": [
    {
     "name": "stdout",
     "output_type": "stream",
     "text": [
      "tensor([[[2., 2.],\n",
      "         [1., 1.],\n",
      "         [3., 3.]],\n",
      "\n",
      "        [[2., 2.],\n",
      "         [1., 1.],\n",
      "         [3., 3.]]])\n"
     ]
    }
   ],
   "source": [
    "print(torch.stack((d,d)))"
   ]
  }
 ],
 "metadata": {
  "kernelspec": {
   "display_name": "base",
   "language": "python",
   "name": "python3"
  },
  "language_info": {
   "codemirror_mode": {
    "name": "ipython",
    "version": 3
   },
   "file_extension": ".py",
   "mimetype": "text/x-python",
   "name": "python",
   "nbconvert_exporter": "python",
   "pygments_lexer": "ipython3",
   "version": "3.11.9"
  }
 },
 "nbformat": 4,
 "nbformat_minor": 2
}
